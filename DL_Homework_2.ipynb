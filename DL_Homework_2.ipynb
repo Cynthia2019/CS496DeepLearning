{
 "cells": [
  {
   "cell_type": "markdown",
   "metadata": {
    "id": "pLOmsnwrsbqg"
   },
   "source": [
    "# How to submit the homework\n",
    "This homework has been provided to you as an .ipynb. We expect you to complete the notebook and submit the following on canvas:\n",
    "\n",
    "* the completed notebook itself with your answers filled in (including any source code used to answer the question)\n",
    "\n",
    "* a .pdf file of the notebook that shows all your answers. This will make grading easier and I will appreciate that. \n",
    "\n",
    "If you submit only one of these, you will lose points. No late homework will be graded. No submissions via email or other media will be graded."
   ]
  },
  {
   "cell_type": "markdown",
   "metadata": {
    "id": "gi3XDsAElgm8"
   },
   "source": [
    "\n",
    "\n",
    "---\n",
    "\n",
    "\n",
    "# Question 1 (1 point)\n",
    "\n",
    "\n",
    "\n"
   ]
  },
  {
   "cell_type": "markdown",
   "metadata": {
    "id": "dp1jK1SGllAG"
   },
   "source": [
    "Is the following module capable of implementing the function $y= x_1+x_2$  for all  $y,x_1,x_2 \\in {\\Bbb R}$ ? If so, explain why. If not, explain why not and provide a modified *AddModule* that can implement this function, given the right weights. Also, give a set of weights (including the bias) that would make the (possibly modified) *AddModule*  actually implement $y= x_1+x_2$.\n",
    "\n",
    "```\n",
    "class AddModule(torch.nn.Module):\n",
    "\n",
    "  # Define the model architecture\n",
    "  def __init__(self, use_good_weights=False):\n",
    "    super(AddModule, self).__init__()\n",
    "\n",
    "    self.layer_1 = torch.nn.Linear(2,1)\n",
    "\n",
    "  def forward(self, x):\n",
    "      return torch.nn.Hardtanh(self.layer_1(x))\n",
    "```"
   ]
  },
  {
   "cell_type": "markdown",
   "metadata": {
    "id": "imNWGIntyfdJ"
   },
   "source": [
    "***YOUR ANSWER GOES HERE***\n",
    "\n",
    "No, it cannot implement this function. We could take out the hardtanh activation function and this module would be able to implement function $y = x_1 + x_2$.\n",
    "\n",
    "Yes. The input size is 2 because each data sample $x_i = <x_1, x_2>$ has two dimensions. The linear layer applies a linear transformation to the input, which is $y = w^Tx + b$, and we will have two weights and one bias term to be learned. The output dimension is 1, which corresponds with the target $y$ dimension. The activation function for this single layer is Hardtanh, where it is defined as the following: \n",
    "\n",
    "$\n",
    "\\begin{equation}\n",
    "  f(x)=\\begin{cases}\n",
    "    1, & \\text{if $x>1$}.\\\\\n",
    "    -1, & \\text{if $x<-1$}.\\\\\n",
    "    x, & \\text{otherwise}\n",
    "  \\end{cases}\n",
    "\\end{equation}\n",
    "$\n",
    "\n",
    "This activation function also return a real number, which corresponds to the target output. Therefore, this module can implement the function $y = x_1 + x_2$ with correct weights. "
   ]
  },
  {
   "cell_type": "markdown",
   "metadata": {
    "id": "lgLhnfqa3MQ4"
   },
   "source": [
    "# Question 2 (3 points)"
   ]
  },
  {
   "cell_type": "markdown",
   "metadata": {
    "id": "SvTrnjciJeeY"
   },
   "source": [
    "In this question, you will do your best to make a network to embody the function $y=x_1 * x_2$. Here, assume $x_1,x_2 \\in {\\Bbb R}$ and $x_1,x_2 \\in (-1000,1000)$. \n",
    "\n",
    "Assume you are starting from random weight initialization. Feel free to use any of the Non-linear Activations (weighted sum, nonlinearity) in [torch.nn](https://pytorch.org/docs/stable/nn.html#non-linear-activations-weighted-sum-nonlinearity). Use as many layers as you like. Make the layers as big as you like. \n",
    "\n",
    "* Note, you are not allowed to simply put some variant of $output = x_1*x_2$ in your forward function.\n",
    "\n",
    "You will make a training dataset and a test dataset using the provided dataset generator. Train the network on the training set and, once trained, test it on the test data. Make sure your test set is at minimum 1000 examples. Use mean-squared-error as your objective function. Then answer the following questions.\n",
    "\n",
    "1. What was the best mean-squared-error you got on the training data?\n",
    "\n",
    "The best MSE I got is 0.5883486866950989.\n",
    "\n",
    "1. What was the best mean-squared-error you got on the test data?\n",
    "\n",
    "The best MSE I got is 0.6079967617988586.\n",
    "\n",
    "1. What challenges or difficulties did you encounter in implementing and training this network?\n",
    "\n",
    "At the beginning, I struggled with the huge loss that I got in each run, and I was also confused by why the loss converges to some large number immediately after one or two epoch. This might be caused by large gradients and loss added on top of each other, and so the error became huge.\n",
    "\n",
    "Later, I found out that I did not scale my data properly, and when I was using tanh as my activation function, it automatically convert my hugh input to 1 and -1. Therefore, I decided to scale both the data and the labels by dividing 1000 and 1000000 respectively so that they fall within $[-1, 1]$ and so that the tanh activation function could be properly applied. \n",
    "\n",
    "I also tried other transformation on data, like log transformation. But since applying log on negative values would cause undefined, we cannot use this transformation. "
   ]
  },
  {
   "cell_type": "markdown",
   "metadata": {
    "id": "VIaPg4gHEGWQ"
   },
   "source": [
    "***YOUR ANSWER GOES HERE***\n"
   ]
  },
  {
   "cell_type": "code",
   "execution_count": 82,
   "metadata": {},
   "outputs": [],
   "source": [
    "import sys\n",
    "#sys.path.append('/Users/yujiaxie/.pyenv/versions/3.9.4/lib/python3.9/site-packages')"
   ]
  },
  {
   "cell_type": "code",
   "execution_count": 85,
   "metadata": {
    "id": "VmrWadVlKvdO"
   },
   "outputs": [],
   "source": [
    "# HERE'S A DATASET GENERATOR TO HELP YOU TEST/TRAIN.\n",
    "import torch\n",
    "import numpy as np\n",
    "class MultiplyDataset(torch.utils.data.Dataset):\n",
    "    \"\"\"MULTIPLY Dataset.\"\"\"\n",
    "\n",
    "    def __init__(self, num_examples, max_abs=1000):\n",
    "        \"\"\"create a dataset of the form x_1 * x_2 = y. The input x_1, x_2 is a \n",
    "        pair of values drawn from the default range [-1000, 1000]. The output y is a scalar.\n",
    "  \n",
    "        PARAMETERS\n",
    "        ----------\n",
    "        num_examples    An integer determining how much data we'll generate\n",
    "        max_abs         The largest absolute value a datapoint can have\n",
    "        \"\"\"\n",
    "        self.length = num_examples\n",
    "\n",
    "        # make a circular unit Gaussian and draw samples from it\n",
    "        data = np.random.multivariate_normal(mean=[0,0],cov=[[1,0],[0,1]],size=self.length)\n",
    "\n",
    "        data *= max_abs\n",
    "        # figure out the label (i.e. the result of the multiplication)\n",
    "        label = np.multiply(data.T[0],data.T[1])\n",
    "\n",
    "        # turn it into a tensor\n",
    "        self.data =  torch.tensor(data).to(dtype=torch.float32)\n",
    "        self.label = torch.tensor(label).to(dtype=torch.float32) \n",
    "       \n",
    "    def __len__(self):\n",
    "        return self.length\n",
    "\n",
    "    def __getitem__(self, idx):\n",
    "        return self.data[idx], self.label[idx]"
   ]
  },
  {
   "cell_type": "code",
   "execution_count": 87,
   "metadata": {
    "scrolled": true
   },
   "outputs": [
    {
     "name": "stdout",
     "output_type": "stream",
     "text": [
      "Cloning into 'course-deep-learning'...\n",
      "remote: Enumerating objects: 342, done.\u001b[K\n",
      "remote: Total 342 (delta 0), reused 0 (delta 0), pack-reused 342\n",
      "Receiving objects: 100% (342/342), 119.02 MiB | 7.53 MiB/s, done.\n",
      "Resolving deltas: 100% (156/156), done.\n",
      "Requirement already satisfied: torch in /Users/yujiaxie/.pyenv/versions/3.9.4/lib/python3.9/site-packages (from -r requirements.txt (line 1)) (1.10.0)\n",
      "Requirement already satisfied: torchvision in /Users/yujiaxie/.pyenv/versions/3.9.4/lib/python3.9/site-packages (from -r requirements.txt (line 2)) (0.11.1)\n",
      "Requirement already satisfied: gdown>=4.4.0 in /Users/yujiaxie/.pyenv/versions/3.9.4/lib/python3.9/site-packages (from -r requirements.txt (line 3)) (4.4.0)\n",
      "Requirement already satisfied: torchaudio in /Users/yujiaxie/.pyenv/versions/3.9.4/lib/python3.9/site-packages (from -r requirements.txt (line 4)) (0.10.0)\n",
      "Requirement already satisfied: librosa in /Users/yujiaxie/.pyenv/versions/3.9.4/lib/python3.9/site-packages (from -r requirements.txt (line 5)) (0.8.1)\n",
      "Requirement already satisfied: matplotlib in /Users/yujiaxie/.pyenv/versions/3.9.4/lib/python3.9/site-packages (from -r requirements.txt (line 6)) (3.5.1)\n",
      "Requirement already satisfied: tensorboard in /Users/yujiaxie/.pyenv/versions/3.9.4/lib/python3.9/site-packages (from -r requirements.txt (line 7)) (2.8.0)\n",
      "Requirement already satisfied: ipython>=7.0 in /Users/yujiaxie/.pyenv/versions/3.9.4/lib/python3.9/site-packages (from -r requirements.txt (line 8)) (8.1.1)\n",
      "Requirement already satisfied: ipykernel in /Users/yujiaxie/.pyenv/versions/3.9.4/lib/python3.9/site-packages (from -r requirements.txt (line 9)) (6.9.2)\n",
      "Requirement already satisfied: tqdm in /Users/yujiaxie/.pyenv/versions/3.9.4/lib/python3.9/site-packages (from -r requirements.txt (line 10)) (4.62.3)\n",
      "Requirement already satisfied: numpy<=1.21 in /Users/yujiaxie/.pyenv/versions/3.9.4/lib/python3.9/site-packages (from -r requirements.txt (line 12)) (1.21.0)\n",
      "Requirement already satisfied: seaborn in /Users/yujiaxie/.pyenv/versions/3.9.4/lib/python3.9/site-packages (from -r requirements.txt (line 13)) (0.11.2)\n",
      "Requirement already satisfied: torchsummary in /Users/yujiaxie/.pyenv/versions/3.9.4/lib/python3.9/site-packages (from -r requirements.txt (line 14)) (1.5.1)\n",
      "Requirement already satisfied: typing-extensions in /Users/yujiaxie/.pyenv/versions/3.9.4/lib/python3.9/site-packages (from torch->-r requirements.txt (line 1)) (3.10.0.2)\n",
      "Requirement already satisfied: pillow!=8.3.0,>=5.3.0 in /Users/yujiaxie/.pyenv/versions/3.9.4/lib/python3.9/site-packages (from torchvision->-r requirements.txt (line 2)) (8.4.0)\n",
      "Requirement already satisfied: six in /Users/yujiaxie/.pyenv/versions/3.9.4/lib/python3.9/site-packages (from gdown>=4.4.0->-r requirements.txt (line 3)) (1.16.0)\n",
      "Requirement already satisfied: beautifulsoup4 in /Users/yujiaxie/.pyenv/versions/3.9.4/lib/python3.9/site-packages (from gdown>=4.4.0->-r requirements.txt (line 3)) (4.10.0)\n",
      "Requirement already satisfied: requests[socks] in /Users/yujiaxie/.pyenv/versions/3.9.4/lib/python3.9/site-packages (from gdown>=4.4.0->-r requirements.txt (line 3)) (2.26.0)\n",
      "Requirement already satisfied: filelock in /Users/yujiaxie/.pyenv/versions/3.9.4/lib/python3.9/site-packages (from gdown>=4.4.0->-r requirements.txt (line 3)) (3.6.0)\n",
      "Requirement already satisfied: numba>=0.43.0 in /Users/yujiaxie/.pyenv/versions/3.9.4/lib/python3.9/site-packages (from librosa->-r requirements.txt (line 5)) (0.55.1)\n",
      "Requirement already satisfied: packaging>=20.0 in /Users/yujiaxie/.pyenv/versions/3.9.4/lib/python3.9/site-packages (from librosa->-r requirements.txt (line 5)) (21.2)\n",
      "Requirement already satisfied: resampy>=0.2.2 in /Users/yujiaxie/.pyenv/versions/3.9.4/lib/python3.9/site-packages (from librosa->-r requirements.txt (line 5)) (0.2.2)\n",
      "Requirement already satisfied: audioread>=2.0.0 in /Users/yujiaxie/.pyenv/versions/3.9.4/lib/python3.9/site-packages (from librosa->-r requirements.txt (line 5)) (2.1.9)\n",
      "Requirement already satisfied: soundfile>=0.10.2 in /Users/yujiaxie/.pyenv/versions/3.9.4/lib/python3.9/site-packages (from librosa->-r requirements.txt (line 5)) (0.10.3.post1)\n",
      "Requirement already satisfied: decorator>=3.0.0 in /Users/yujiaxie/.pyenv/versions/3.9.4/lib/python3.9/site-packages (from librosa->-r requirements.txt (line 5)) (5.1.1)\n",
      "Requirement already satisfied: scikit-learn!=0.19.0,>=0.14.0 in /Users/yujiaxie/.pyenv/versions/3.9.4/lib/python3.9/site-packages (from librosa->-r requirements.txt (line 5)) (1.0.2)\n",
      "Requirement already satisfied: scipy>=1.0.0 in /Users/yujiaxie/.pyenv/versions/3.9.4/lib/python3.9/site-packages (from librosa->-r requirements.txt (line 5)) (1.8.0)\n",
      "Requirement already satisfied: pooch>=1.0 in /Users/yujiaxie/.pyenv/versions/3.9.4/lib/python3.9/site-packages (from librosa->-r requirements.txt (line 5)) (1.6.0)\n",
      "Requirement already satisfied: joblib>=0.14 in /Users/yujiaxie/.pyenv/versions/3.9.4/lib/python3.9/site-packages (from librosa->-r requirements.txt (line 5)) (1.1.0)\n",
      "Requirement already satisfied: cycler>=0.10 in /Users/yujiaxie/.pyenv/versions/3.9.4/lib/python3.9/site-packages (from matplotlib->-r requirements.txt (line 6)) (0.11.0)\n",
      "Requirement already satisfied: python-dateutil>=2.7 in /Users/yujiaxie/.pyenv/versions/3.9.4/lib/python3.9/site-packages (from matplotlib->-r requirements.txt (line 6)) (2.8.2)\n",
      "Requirement already satisfied: pyparsing>=2.2.1 in /Users/yujiaxie/.pyenv/versions/3.9.4/lib/python3.9/site-packages (from matplotlib->-r requirements.txt (line 6)) (2.4.7)\n",
      "Requirement already satisfied: fonttools>=4.22.0 in /Users/yujiaxie/.pyenv/versions/3.9.4/lib/python3.9/site-packages (from matplotlib->-r requirements.txt (line 6)) (4.31.2)\n",
      "Requirement already satisfied: kiwisolver>=1.0.1 in /Users/yujiaxie/.pyenv/versions/3.9.4/lib/python3.9/site-packages (from matplotlib->-r requirements.txt (line 6)) (1.4.2)\n",
      "Requirement already satisfied: grpcio>=1.24.3 in /Users/yujiaxie/.pyenv/versions/3.9.4/lib/python3.9/site-packages (from tensorboard->-r requirements.txt (line 7)) (1.44.0)\n",
      "Requirement already satisfied: tensorboard-data-server<0.7.0,>=0.6.0 in /Users/yujiaxie/.pyenv/versions/3.9.4/lib/python3.9/site-packages (from tensorboard->-r requirements.txt (line 7)) (0.6.1)\n",
      "Requirement already satisfied: tensorboard-plugin-wit>=1.6.0 in /Users/yujiaxie/.pyenv/versions/3.9.4/lib/python3.9/site-packages (from tensorboard->-r requirements.txt (line 7)) (1.8.1)\n",
      "Requirement already satisfied: markdown>=2.6.8 in /Users/yujiaxie/.pyenv/versions/3.9.4/lib/python3.9/site-packages (from tensorboard->-r requirements.txt (line 7)) (3.3.6)\n",
      "Requirement already satisfied: protobuf>=3.6.0 in /Users/yujiaxie/.pyenv/versions/3.9.4/lib/python3.9/site-packages (from tensorboard->-r requirements.txt (line 7)) (3.20.0)\n",
      "Requirement already satisfied: werkzeug>=0.11.15 in /Users/yujiaxie/.pyenv/versions/3.9.4/lib/python3.9/site-packages (from tensorboard->-r requirements.txt (line 7)) (2.1.1)\n",
      "Requirement already satisfied: setuptools>=41.0.0 in /Users/yujiaxie/.pyenv/versions/3.9.4/lib/python3.9/site-packages (from tensorboard->-r requirements.txt (line 7)) (49.2.1)\n",
      "Requirement already satisfied: wheel>=0.26 in /Users/yujiaxie/.pyenv/versions/3.9.4/lib/python3.9/site-packages (from tensorboard->-r requirements.txt (line 7)) (0.37.1)\n",
      "Requirement already satisfied: google-auth-oauthlib<0.5,>=0.4.1 in /Users/yujiaxie/.pyenv/versions/3.9.4/lib/python3.9/site-packages (from tensorboard->-r requirements.txt (line 7)) (0.4.6)\n",
      "Requirement already satisfied: absl-py>=0.4 in /Users/yujiaxie/.pyenv/versions/3.9.4/lib/python3.9/site-packages (from tensorboard->-r requirements.txt (line 7)) (1.0.0)\n",
      "Requirement already satisfied: google-auth<3,>=1.6.3 in /Users/yujiaxie/.pyenv/versions/3.9.4/lib/python3.9/site-packages (from tensorboard->-r requirements.txt (line 7)) (2.6.2)\n",
      "Requirement already satisfied: appnope in /Users/yujiaxie/.pyenv/versions/3.9.4/lib/python3.9/site-packages (from ipython>=7.0->-r requirements.txt (line 8)) (0.1.2)\n",
      "Requirement already satisfied: pexpect>4.3 in /Users/yujiaxie/.pyenv/versions/3.9.4/lib/python3.9/site-packages (from ipython>=7.0->-r requirements.txt (line 8)) (4.8.0)\n",
      "Requirement already satisfied: stack-data in /Users/yujiaxie/.pyenv/versions/3.9.4/lib/python3.9/site-packages (from ipython>=7.0->-r requirements.txt (line 8)) (0.2.0)\n",
      "Requirement already satisfied: pygments>=2.4.0 in /Users/yujiaxie/.pyenv/versions/3.9.4/lib/python3.9/site-packages (from ipython>=7.0->-r requirements.txt (line 8)) (2.11.2)\n",
      "Requirement already satisfied: pickleshare in /Users/yujiaxie/.pyenv/versions/3.9.4/lib/python3.9/site-packages (from ipython>=7.0->-r requirements.txt (line 8)) (0.7.5)\n",
      "Requirement already satisfied: matplotlib-inline in /Users/yujiaxie/.pyenv/versions/3.9.4/lib/python3.9/site-packages (from ipython>=7.0->-r requirements.txt (line 8)) (0.1.3)\n",
      "Requirement already satisfied: prompt-toolkit!=3.0.0,!=3.0.1,<3.1.0,>=2.0.0 in /Users/yujiaxie/.pyenv/versions/3.9.4/lib/python3.9/site-packages (from ipython>=7.0->-r requirements.txt (line 8)) (3.0.28)\n",
      "Requirement already satisfied: backcall in /Users/yujiaxie/.pyenv/versions/3.9.4/lib/python3.9/site-packages (from ipython>=7.0->-r requirements.txt (line 8)) (0.2.0)\n",
      "Requirement already satisfied: jedi>=0.16 in /Users/yujiaxie/.pyenv/versions/3.9.4/lib/python3.9/site-packages (from ipython>=7.0->-r requirements.txt (line 8)) (0.18.1)\n",
      "Requirement already satisfied: traitlets>=5 in /Users/yujiaxie/.pyenv/versions/3.9.4/lib/python3.9/site-packages (from ipython>=7.0->-r requirements.txt (line 8)) (5.1.1)\n"
     ]
    },
    {
     "name": "stdout",
     "output_type": "stream",
     "text": [
      "Requirement already satisfied: tornado<7.0,>=4.2 in /Users/yujiaxie/.pyenv/versions/3.9.4/lib/python3.9/site-packages (from ipykernel->-r requirements.txt (line 9)) (6.1)\n",
      "Requirement already satisfied: psutil in /Users/yujiaxie/.pyenv/versions/3.9.4/lib/python3.9/site-packages (from ipykernel->-r requirements.txt (line 9)) (5.9.0)\n",
      "Requirement already satisfied: debugpy<2.0,>=1.0.0 in /Users/yujiaxie/.pyenv/versions/3.9.4/lib/python3.9/site-packages (from ipykernel->-r requirements.txt (line 9)) (1.5.1)\n",
      "Requirement already satisfied: jupyter-client<8.0 in /Users/yujiaxie/.pyenv/versions/3.9.4/lib/python3.9/site-packages (from ipykernel->-r requirements.txt (line 9)) (7.1.2)\n",
      "Requirement already satisfied: nest-asyncio in /Users/yujiaxie/.pyenv/versions/3.9.4/lib/python3.9/site-packages (from ipykernel->-r requirements.txt (line 9)) (1.5.4)\n",
      "Requirement already satisfied: pandas>=0.23 in /Users/yujiaxie/.pyenv/versions/3.9.4/lib/python3.9/site-packages (from seaborn->-r requirements.txt (line 13)) (1.4.1)\n",
      "Requirement already satisfied: pyasn1-modules>=0.2.1 in /Users/yujiaxie/.pyenv/versions/3.9.4/lib/python3.9/site-packages (from google-auth<3,>=1.6.3->tensorboard->-r requirements.txt (line 7)) (0.2.8)\n",
      "Requirement already satisfied: cachetools<6.0,>=2.0.0 in /Users/yujiaxie/.pyenv/versions/3.9.4/lib/python3.9/site-packages (from google-auth<3,>=1.6.3->tensorboard->-r requirements.txt (line 7)) (5.0.0)\n",
      "Requirement already satisfied: rsa<5,>=3.1.4 in /Users/yujiaxie/.pyenv/versions/3.9.4/lib/python3.9/site-packages (from google-auth<3,>=1.6.3->tensorboard->-r requirements.txt (line 7)) (4.8)\n",
      "Requirement already satisfied: requests-oauthlib>=0.7.0 in /Users/yujiaxie/.pyenv/versions/3.9.4/lib/python3.9/site-packages (from google-auth-oauthlib<0.5,>=0.4.1->tensorboard->-r requirements.txt (line 7)) (1.3.1)\n",
      "Requirement already satisfied: parso<0.9.0,>=0.8.0 in /Users/yujiaxie/.pyenv/versions/3.9.4/lib/python3.9/site-packages (from jedi>=0.16->ipython>=7.0->-r requirements.txt (line 8)) (0.8.3)\n",
      "Requirement already satisfied: pyzmq>=13 in /Users/yujiaxie/.pyenv/versions/3.9.4/lib/python3.9/site-packages (from jupyter-client<8.0->ipykernel->-r requirements.txt (line 9)) (22.3.0)\n",
      "Requirement already satisfied: entrypoints in /Users/yujiaxie/.pyenv/versions/3.9.4/lib/python3.9/site-packages (from jupyter-client<8.0->ipykernel->-r requirements.txt (line 9)) (0.4)\n",
      "Requirement already satisfied: jupyter-core>=4.6.0 in /Users/yujiaxie/.pyenv/versions/3.9.4/lib/python3.9/site-packages (from jupyter-client<8.0->ipykernel->-r requirements.txt (line 9)) (4.9.2)\n",
      "Requirement already satisfied: importlib-metadata>=4.4 in /Users/yujiaxie/.pyenv/versions/3.9.4/lib/python3.9/site-packages (from markdown>=2.6.8->tensorboard->-r requirements.txt (line 7)) (4.11.3)\n",
      "Requirement already satisfied: llvmlite<0.39,>=0.38.0rc1 in /Users/yujiaxie/.pyenv/versions/3.9.4/lib/python3.9/site-packages (from numba>=0.43.0->librosa->-r requirements.txt (line 5)) (0.38.0)\n",
      "Requirement already satisfied: pytz>=2020.1 in /Users/yujiaxie/.pyenv/versions/3.9.4/lib/python3.9/site-packages (from pandas>=0.23->seaborn->-r requirements.txt (line 13)) (2021.3)\n",
      "Requirement already satisfied: ptyprocess>=0.5 in /Users/yujiaxie/.pyenv/versions/3.9.4/lib/python3.9/site-packages (from pexpect>4.3->ipython>=7.0->-r requirements.txt (line 8)) (0.7.0)\n",
      "Requirement already satisfied: appdirs>=1.3.0 in /Users/yujiaxie/.pyenv/versions/3.9.4/lib/python3.9/site-packages (from pooch>=1.0->librosa->-r requirements.txt (line 5)) (1.4.4)\n",
      "Requirement already satisfied: wcwidth in /Users/yujiaxie/.pyenv/versions/3.9.4/lib/python3.9/site-packages (from prompt-toolkit!=3.0.0,!=3.0.1,<3.1.0,>=2.0.0->ipython>=7.0->-r requirements.txt (line 8)) (0.2.5)\n",
      "Requirement already satisfied: urllib3<1.27,>=1.21.1 in /Users/yujiaxie/.pyenv/versions/3.9.4/lib/python3.9/site-packages (from requests[socks]->gdown>=4.4.0->-r requirements.txt (line 3)) (1.26.7)\n",
      "Requirement already satisfied: certifi>=2017.4.17 in /Users/yujiaxie/.pyenv/versions/3.9.4/lib/python3.9/site-packages (from requests[socks]->gdown>=4.4.0->-r requirements.txt (line 3)) (2021.10.8)\n",
      "Requirement already satisfied: charset-normalizer~=2.0.0 in /Users/yujiaxie/.pyenv/versions/3.9.4/lib/python3.9/site-packages (from requests[socks]->gdown>=4.4.0->-r requirements.txt (line 3)) (2.0.7)\n",
      "Requirement already satisfied: idna<4,>=2.5 in /Users/yujiaxie/.pyenv/versions/3.9.4/lib/python3.9/site-packages (from requests[socks]->gdown>=4.4.0->-r requirements.txt (line 3)) (3.3)\n",
      "Requirement already satisfied: threadpoolctl>=2.0.0 in /Users/yujiaxie/.pyenv/versions/3.9.4/lib/python3.9/site-packages (from scikit-learn!=0.19.0,>=0.14.0->librosa->-r requirements.txt (line 5)) (3.1.0)\n",
      "Requirement already satisfied: cffi>=1.0 in /Users/yujiaxie/.pyenv/versions/3.9.4/lib/python3.9/site-packages (from soundfile>=0.10.2->librosa->-r requirements.txt (line 5)) (1.15.0)\n",
      "Requirement already satisfied: soupsieve>1.2 in /Users/yujiaxie/.pyenv/versions/3.9.4/lib/python3.9/site-packages (from beautifulsoup4->gdown>=4.4.0->-r requirements.txt (line 3)) (2.3.1)\n",
      "Requirement already satisfied: PySocks!=1.5.7,>=1.5.6 in /Users/yujiaxie/.pyenv/versions/3.9.4/lib/python3.9/site-packages (from requests[socks]->gdown>=4.4.0->-r requirements.txt (line 3)) (1.7.1)\n",
      "Requirement already satisfied: executing in /Users/yujiaxie/.pyenv/versions/3.9.4/lib/python3.9/site-packages (from stack-data->ipython>=7.0->-r requirements.txt (line 8)) (0.8.3)\n",
      "Requirement already satisfied: asttokens in /Users/yujiaxie/.pyenv/versions/3.9.4/lib/python3.9/site-packages (from stack-data->ipython>=7.0->-r requirements.txt (line 8)) (2.0.5)\n",
      "Requirement already satisfied: pure-eval in /Users/yujiaxie/.pyenv/versions/3.9.4/lib/python3.9/site-packages (from stack-data->ipython>=7.0->-r requirements.txt (line 8)) (0.2.2)\n",
      "Requirement already satisfied: pycparser in /Users/yujiaxie/.pyenv/versions/3.9.4/lib/python3.9/site-packages (from cffi>=1.0->soundfile>=0.10.2->librosa->-r requirements.txt (line 5)) (2.21)\n",
      "Requirement already satisfied: zipp>=0.5 in /Users/yujiaxie/.pyenv/versions/3.9.4/lib/python3.9/site-packages (from importlib-metadata>=4.4->markdown>=2.6.8->tensorboard->-r requirements.txt (line 7)) (3.8.0)\n",
      "Requirement already satisfied: pyasn1<0.5.0,>=0.4.6 in /Users/yujiaxie/.pyenv/versions/3.9.4/lib/python3.9/site-packages (from pyasn1-modules>=0.2.1->google-auth<3,>=1.6.3->tensorboard->-r requirements.txt (line 7)) (0.4.8)\n",
      "Requirement already satisfied: oauthlib>=3.0.0 in /Users/yujiaxie/.pyenv/versions/3.9.4/lib/python3.9/site-packages (from requests-oauthlib>=0.7.0->google-auth-oauthlib<0.5,>=0.4.1->tensorboard->-r requirements.txt (line 7)) (3.2.0)\n",
      "/Users/yujiaxie/Desktop/northwestern/CS496DL/course-deep-learning/course-deep-learning\n"
     ]
    }
   ],
   "source": [
    "!git clone https://github.com/interactiveaudiolab/course-deep-learning.git\n",
    "# install common pacakges used for deep learning\n",
    "!cd course-deep-learning/ && pip install -r requirements.txt\n",
    "%cd course-deep-learning/"
   ]
  },
  {
   "cell_type": "code",
   "execution_count": 88,
   "metadata": {
    "id": "kLq6kmKhLk89"
   },
   "outputs": [],
   "source": [
    "# YOUR CODE GOES HERE\n",
    "\n",
    "%matplotlib inline\n",
    "import matplotlib.pyplot as plt\n",
    "from utils.plotting import *  # see plotting.py for plotting utilities\n",
    "from utils.data import * \n",
    "import torch.nn as nn\n",
    "import torch.nn.functional as F\n",
    "import torch.optim as optim"
   ]
  },
  {
   "cell_type": "code",
   "execution_count": 110,
   "metadata": {},
   "outputs": [],
   "source": [
    "class Q2Net(torch.nn.Module): \n",
    "    def __init__(self):\n",
    "        super().__init__() # has to be here\n",
    "        self.fc1 = nn.Linear(2,100) # this accepts 2 dim input and returns 3 dim output\n",
    "        self.fc2 = nn.Linear(100,100)\n",
    "        self.fc3 = nn.Linear(100,1)\n",
    "        self.relu = torch.nn.ReLU()\n",
    "        self.sigmoid = torch.nn.Sigmoid()\n",
    "\n",
    "    # This part determines how data in x flows through the network. \n",
    "    # Here, x is the input to the network. \n",
    "    def forward(self, x):\n",
    "        x = self.relu(self.fc1(x))\n",
    "        x = self.relu(self.fc2(x))\n",
    "        x = torch.sigmoid(self.fc3(x))\n",
    "        #x = torch.tanh(self.fc3(x))#output layer has to give a (400,1) vector that range from [-1, 1]\n",
    "        return x"
   ]
  },
  {
   "cell_type": "code",
   "execution_count": 113,
   "metadata": {},
   "outputs": [],
   "source": [
    "def train_model(model, data, target): \n",
    "    model.train()\n",
    "    optimizer.zero_grad()\n",
    "    output = model(data)\n",
    "    loss = F.mse_loss(output.squeeze(), target)\n",
    "    loss.backward()\n",
    "    optimizer.step()\n",
    "    \n",
    "def test_model(model, data, target): \n",
    "    model.eval()\n",
    "    with torch.no_grad(): \n",
    "        prediction = model(data)\n",
    "        prediction = prediction.squeeze() \n",
    "        loss = F.mse_loss(prediction, target)\n",
    "        loss = round(loss.item(),4)\n",
    "        return loss"
   ]
  },
  {
   "cell_type": "code",
   "execution_count": 119,
   "metadata": {
    "scrolled": true
   },
   "outputs": [
    {
     "name": "stderr",
     "output_type": "stream",
     "text": [
      "/var/folders/sl/wss32g7d5n90dkxvz70f3q940000gn/T/ipykernel_47160/1359735096.py:14: UserWarning: To copy construct from a tensor, it is recommended to use sourceTensor.clone().detach() or sourceTensor.clone().detach().requires_grad_(True), rather than torch.tensor(sourceTensor).\n",
      "  x = torch.tensor(train_x).to(dtype=torch.float32)\n",
      "/var/folders/sl/wss32g7d5n90dkxvz70f3q940000gn/T/ipykernel_47160/1359735096.py:15: UserWarning: To copy construct from a tensor, it is recommended to use sourceTensor.clone().detach() or sourceTensor.clone().detach().requires_grad_(True), rather than torch.tensor(sourceTensor).\n",
      "  y = torch.tensor(train_y).to(dtype=torch.float32)\n"
     ]
    },
    {
     "name": "stdout",
     "output_type": "stream",
     "text": [
      "Epoch: 0 Loss: 1.252996563911438\n",
      "Epoch: 100 Loss: 0.7155877947807312\n",
      "Epoch: 200 Loss: 0.679847240447998\n",
      "Epoch: 300 Loss: 0.6791032552719116\n",
      "Epoch: 400 Loss: 0.6788431406021118\n",
      "Epoch: 500 Loss: 0.6786931753158569\n",
      "Epoch: 600 Loss: 0.6785837411880493\n",
      "Epoch: 700 Loss: 0.6784943342208862\n",
      "Epoch: 800 Loss: 0.6784161925315857\n",
      "Epoch: 900 Loss: 0.6783447861671448\n",
      "Epoch: 1000 Loss: 0.6782801151275635\n",
      "Epoch: 1100 Loss: 0.6782214641571045\n",
      "Epoch: 1200 Loss: 0.6781686544418335\n",
      "Epoch: 1300 Loss: 0.6781214475631714\n",
      "Epoch: 1400 Loss: 0.6780779361724854\n",
      "Epoch: 1500 Loss: 0.6780378222465515\n",
      "Epoch: 1600 Loss: 0.6780003309249878\n",
      "Epoch: 1700 Loss: 0.6779647469520569\n",
      "Epoch: 1800 Loss: 0.6779301166534424\n",
      "Epoch: 1900 Loss: 0.6778973937034607\n"
     ]
    },
    {
     "data": {
      "image/png": "[encoded data removed]",
      "text/plain": [
       "<Figure size 432x288 with 1 Axes>"
      ]
     },
     "metadata": {
      "needs_background": "light"
     },
     "output_type": "display_data"
    },
    {
     "name": "stderr",
     "output_type": "stream",
     "text": [
      "/var/folders/sl/wss32g7d5n90dkxvz70f3q940000gn/T/ipykernel_47160/1359735096.py:43: UserWarning: To copy construct from a tensor, it is recommended to use sourceTensor.clone().detach() or sourceTensor.clone().detach().requires_grad_(True), rather than torch.tensor(sourceTensor).\n",
      "  t_x = torch.tensor(test_x).to(dtype=torch.float32)\n",
      "/var/folders/sl/wss32g7d5n90dkxvz70f3q940000gn/T/ipykernel_47160/1359735096.py:44: UserWarning: To copy construct from a tensor, it is recommended to use sourceTensor.clone().detach() or sourceTensor.clone().detach().requires_grad_(True), rather than torch.tensor(sourceTensor).\n",
      "  t_y = torch.tensor(test_y).to(dtype=torch.float32)\n",
      "/var/folders/sl/wss32g7d5n90dkxvz70f3q940000gn/T/ipykernel_47160/1359735096.py:14: UserWarning: To copy construct from a tensor, it is recommended to use sourceTensor.clone().detach() or sourceTensor.clone().detach().requires_grad_(True), rather than torch.tensor(sourceTensor).\n",
      "  x = torch.tensor(train_x).to(dtype=torch.float32)\n",
      "/var/folders/sl/wss32g7d5n90dkxvz70f3q940000gn/T/ipykernel_47160/1359735096.py:15: UserWarning: To copy construct from a tensor, it is recommended to use sourceTensor.clone().detach() or sourceTensor.clone().detach().requires_grad_(True), rather than torch.tensor(sourceTensor).\n",
      "  y = torch.tensor(train_y).to(dtype=torch.float32)\n"
     ]
    },
    {
     "name": "stdout",
     "output_type": "stream",
     "text": [
      "Prediction: tensor([0.0949])\n",
      "Expected: 0.16238191723823547\n",
      "Test Loss: 0.7464182376861572\n",
      "Epoch: 0 Loss: 1.188235878944397\n",
      "Epoch: 100 Loss: 0.6973316073417664\n",
      "Epoch: 200 Loss: 0.6060769557952881\n",
      "Epoch: 300 Loss: 0.6047709584236145\n",
      "Epoch: 400 Loss: 0.6044396758079529\n",
      "Epoch: 500 Loss: 0.6042860746383667\n",
      "Epoch: 600 Loss: 0.6041932702064514\n",
      "Epoch: 700 Loss: 0.6041247248649597\n",
      "Epoch: 800 Loss: 0.6040660738945007\n",
      "Epoch: 900 Loss: 0.6040124297142029\n",
      "Epoch: 1000 Loss: 0.6039613485336304\n",
      "Epoch: 1100 Loss: 0.6039125919342041\n",
      "Epoch: 1200 Loss: 0.6038639545440674\n",
      "Epoch: 1300 Loss: 0.6038160920143127\n",
      "Epoch: 1400 Loss: 0.6037660837173462\n",
      "Epoch: 1500 Loss: 0.603715717792511\n",
      "Epoch: 1600 Loss: 0.6036672592163086\n",
      "Epoch: 1700 Loss: 0.6036219596862793\n",
      "Epoch: 1800 Loss: 0.6035758852958679\n",
      "Epoch: 1900 Loss: 0.6035281419754028\n"
     ]
    },
    {
     "data": {
      "image/png": "[encoded data removed]",
      "text/plain": [
       "<Figure size 432x288 with 1 Axes>"
      ]
     },
     "metadata": {
      "needs_background": "light"
     },
     "output_type": "display_data"
    },
    {
     "name": "stderr",
     "output_type": "stream",
     "text": [
      "/var/folders/sl/wss32g7d5n90dkxvz70f3q940000gn/T/ipykernel_47160/1359735096.py:43: UserWarning: To copy construct from a tensor, it is recommended to use sourceTensor.clone().detach() or sourceTensor.clone().detach().requires_grad_(True), rather than torch.tensor(sourceTensor).\n",
      "  t_x = torch.tensor(test_x).to(dtype=torch.float32)\n",
      "/var/folders/sl/wss32g7d5n90dkxvz70f3q940000gn/T/ipykernel_47160/1359735096.py:44: UserWarning: To copy construct from a tensor, it is recommended to use sourceTensor.clone().detach() or sourceTensor.clone().detach().requires_grad_(True), rather than torch.tensor(sourceTensor).\n",
      "  t_y = torch.tensor(test_y).to(dtype=torch.float32)\n",
      "/var/folders/sl/wss32g7d5n90dkxvz70f3q940000gn/T/ipykernel_47160/1359735096.py:14: UserWarning: To copy construct from a tensor, it is recommended to use sourceTensor.clone().detach() or sourceTensor.clone().detach().requires_grad_(True), rather than torch.tensor(sourceTensor).\n",
      "  x = torch.tensor(train_x).to(dtype=torch.float32)\n",
      "/var/folders/sl/wss32g7d5n90dkxvz70f3q940000gn/T/ipykernel_47160/1359735096.py:15: UserWarning: To copy construct from a tensor, it is recommended to use sourceTensor.clone().detach() or sourceTensor.clone().detach().requires_grad_(True), rather than torch.tensor(sourceTensor).\n",
      "  y = torch.tensor(train_y).to(dtype=torch.float32)\n"
     ]
    },
    {
     "name": "stdout",
     "output_type": "stream",
     "text": [
      "Prediction: tensor([0.0272])\n",
      "Expected: -0.26253020763397217\n",
      "Test Loss: 0.6217109560966492\n",
      "Epoch: 0 Loss: 1.2110259532928467\n",
      "Epoch: 100 Loss: 0.6410008072853088\n",
      "Epoch: 200 Loss: 0.5905435681343079\n",
      "Epoch: 300 Loss: 0.5894690155982971\n",
      "Epoch: 400 Loss: 0.5891934633255005\n",
      "Epoch: 500 Loss: 0.5890565514564514\n",
      "Epoch: 600 Loss: 0.5889652371406555\n",
      "Epoch: 700 Loss: 0.5888912677764893\n",
      "Epoch: 800 Loss: 0.5888274908065796\n",
      "Epoch: 900 Loss: 0.58877032995224\n",
      "Epoch: 1000 Loss: 0.5887168645858765\n",
      "Epoch: 1100 Loss: 0.5886672139167786\n",
      "Epoch: 1200 Loss: 0.5886220932006836\n",
      "Epoch: 1300 Loss: 0.5885791778564453\n",
      "Epoch: 1400 Loss: 0.5885380506515503\n",
      "Epoch: 1500 Loss: 0.5884989500045776\n",
      "Epoch: 1600 Loss: 0.5884605646133423\n",
      "Epoch: 1700 Loss: 0.5884226560592651\n",
      "Epoch: 1800 Loss: 0.5883853435516357\n",
      "Epoch: 1900 Loss: 0.5883486866950989\n"
     ]
    },
    {
     "data": {
      "image/png": "[encoded data removed]",
      "text/plain": [
       "<Figure size 432x288 with 1 Axes>"
      ]
     },
     "metadata": {
      "needs_background": "light"
     },
     "output_type": "display_data"
    },
    {
     "name": "stderr",
     "output_type": "stream",
     "text": [
      "/var/folders/sl/wss32g7d5n90dkxvz70f3q940000gn/T/ipykernel_47160/1359735096.py:43: UserWarning: To copy construct from a tensor, it is recommended to use sourceTensor.clone().detach() or sourceTensor.clone().detach().requires_grad_(True), rather than torch.tensor(sourceTensor).\n",
      "  t_x = torch.tensor(test_x).to(dtype=torch.float32)\n",
      "/var/folders/sl/wss32g7d5n90dkxvz70f3q940000gn/T/ipykernel_47160/1359735096.py:44: UserWarning: To copy construct from a tensor, it is recommended to use sourceTensor.clone().detach() or sourceTensor.clone().detach().requires_grad_(True), rather than torch.tensor(sourceTensor).\n",
      "  t_y = torch.tensor(test_y).to(dtype=torch.float32)\n",
      "/var/folders/sl/wss32g7d5n90dkxvz70f3q940000gn/T/ipykernel_47160/1359735096.py:14: UserWarning: To copy construct from a tensor, it is recommended to use sourceTensor.clone().detach() or sourceTensor.clone().detach().requires_grad_(True), rather than torch.tensor(sourceTensor).\n",
      "  x = torch.tensor(train_x).to(dtype=torch.float32)\n",
      "/var/folders/sl/wss32g7d5n90dkxvz70f3q940000gn/T/ipykernel_47160/1359735096.py:15: UserWarning: To copy construct from a tensor, it is recommended to use sourceTensor.clone().detach() or sourceTensor.clone().detach().requires_grad_(True), rather than torch.tensor(sourceTensor).\n",
      "  y = torch.tensor(train_y).to(dtype=torch.float32)\n"
     ]
    },
    {
     "name": "stdout",
     "output_type": "stream",
     "text": [
      "Prediction: tensor([0.1651])\n",
      "Expected: 0.2331356704235077\n",
      "Test Loss: 0.6283020377159119\n",
      "Epoch: 0 Loss: 1.2951470613479614\n",
      "Epoch: 100 Loss: 0.7166587710380554\n",
      "Epoch: 200 Loss: 0.690677285194397\n",
      "Epoch: 300 Loss: 0.6901191473007202\n",
      "Epoch: 400 Loss: 0.6899202466011047\n",
      "Epoch: 500 Loss: 0.6898022294044495\n",
      "Epoch: 600 Loss: 0.6897123456001282\n",
      "Epoch: 700 Loss: 0.689633846282959\n",
      "Epoch: 800 Loss: 0.6895616054534912\n",
      "Epoch: 900 Loss: 0.6894937753677368\n",
      "Epoch: 1000 Loss: 0.6894286870956421\n",
      "Epoch: 1100 Loss: 0.6893665790557861\n",
      "Epoch: 1200 Loss: 0.6893067955970764\n",
      "Epoch: 1300 Loss: 0.6892496347427368\n",
      "Epoch: 1400 Loss: 0.6891950964927673\n",
      "Epoch: 1500 Loss: 0.6891428828239441\n",
      "Epoch: 1600 Loss: 0.6890920996665955\n",
      "Epoch: 1700 Loss: 0.6890435814857483\n",
      "Epoch: 1800 Loss: 0.6889983415603638\n",
      "Epoch: 1900 Loss: 0.6889556646347046\n"
     ]
    },
    {
     "data": {
      "image/png": "[encoded data removed]",
      "text/plain": [
       "<Figure size 432x288 with 1 Axes>"
      ]
     },
     "metadata": {
      "needs_background": "light"
     },
     "output_type": "display_data"
    },
    {
     "name": "stderr",
     "output_type": "stream",
     "text": [
      "/var/folders/sl/wss32g7d5n90dkxvz70f3q940000gn/T/ipykernel_47160/1359735096.py:43: UserWarning: To copy construct from a tensor, it is recommended to use sourceTensor.clone().detach() or sourceTensor.clone().detach().requires_grad_(True), rather than torch.tensor(sourceTensor).\n",
      "  t_x = torch.tensor(test_x).to(dtype=torch.float32)\n",
      "/var/folders/sl/wss32g7d5n90dkxvz70f3q940000gn/T/ipykernel_47160/1359735096.py:44: UserWarning: To copy construct from a tensor, it is recommended to use sourceTensor.clone().detach() or sourceTensor.clone().detach().requires_grad_(True), rather than torch.tensor(sourceTensor).\n",
      "  t_y = torch.tensor(test_y).to(dtype=torch.float32)\n",
      "/var/folders/sl/wss32g7d5n90dkxvz70f3q940000gn/T/ipykernel_47160/1359735096.py:14: UserWarning: To copy construct from a tensor, it is recommended to use sourceTensor.clone().detach() or sourceTensor.clone().detach().requires_grad_(True), rather than torch.tensor(sourceTensor).\n",
      "  x = torch.tensor(train_x).to(dtype=torch.float32)\n",
      "/var/folders/sl/wss32g7d5n90dkxvz70f3q940000gn/T/ipykernel_47160/1359735096.py:15: UserWarning: To copy construct from a tensor, it is recommended to use sourceTensor.clone().detach() or sourceTensor.clone().detach().requires_grad_(True), rather than torch.tensor(sourceTensor).\n",
      "  y = torch.tensor(train_y).to(dtype=torch.float32)\n"
     ]
    },
    {
     "name": "stdout",
     "output_type": "stream",
     "text": [
      "Prediction: tensor([0.9991])\n",
      "Expected: 1.958646297454834\n",
      "Test Loss: 0.6399846076965332\n",
      "Epoch: 0 Loss: 1.3053832054138184\n",
      "Epoch: 100 Loss: 0.7602070569992065\n",
      "Epoch: 200 Loss: 0.7046449184417725\n",
      "Epoch: 300 Loss: 0.7035305500030518\n",
      "Epoch: 400 Loss: 0.7032220959663391\n",
      "Epoch: 500 Loss: 0.7030715346336365\n",
      "Epoch: 600 Loss: 0.7029759287834167\n",
      "Epoch: 700 Loss: 0.7029018998146057\n",
      "Epoch: 800 Loss: 0.7028367519378662\n",
      "Epoch: 900 Loss: 0.7027781009674072\n",
      "Epoch: 1000 Loss: 0.7027227282524109\n",
      "Epoch: 1100 Loss: 0.7026715874671936\n",
      "Epoch: 1200 Loss: 0.7026217579841614\n",
      "Epoch: 1300 Loss: 0.7025731205940247\n",
      "Epoch: 1400 Loss: 0.7025274634361267\n",
      "Epoch: 1500 Loss: 0.7024842500686646\n",
      "Epoch: 1600 Loss: 0.7024430632591248\n",
      "Epoch: 1700 Loss: 0.702402651309967\n",
      "Epoch: 1800 Loss: 0.7023630738258362\n",
      "Epoch: 1900 Loss: 0.702325165271759\n"
     ]
    },
    {
     "data": {
      "image/png": "[encoded data removed]",
      "text/plain": [
       "<Figure size 432x288 with 1 Axes>"
      ]
     },
     "metadata": {
      "needs_background": "light"
     },
     "output_type": "display_data"
    },
    {
     "name": "stderr",
     "output_type": "stream",
     "text": [
      "/var/folders/sl/wss32g7d5n90dkxvz70f3q940000gn/T/ipykernel_47160/1359735096.py:43: UserWarning: To copy construct from a tensor, it is recommended to use sourceTensor.clone().detach() or sourceTensor.clone().detach().requires_grad_(True), rather than torch.tensor(sourceTensor).\n",
      "  t_x = torch.tensor(test_x).to(dtype=torch.float32)\n",
      "/var/folders/sl/wss32g7d5n90dkxvz70f3q940000gn/T/ipykernel_47160/1359735096.py:44: UserWarning: To copy construct from a tensor, it is recommended to use sourceTensor.clone().detach() or sourceTensor.clone().detach().requires_grad_(True), rather than torch.tensor(sourceTensor).\n",
      "  t_y = torch.tensor(test_y).to(dtype=torch.float32)\n",
      "/var/folders/sl/wss32g7d5n90dkxvz70f3q940000gn/T/ipykernel_47160/1359735096.py:14: UserWarning: To copy construct from a tensor, it is recommended to use sourceTensor.clone().detach() or sourceTensor.clone().detach().requires_grad_(True), rather than torch.tensor(sourceTensor).\n",
      "  x = torch.tensor(train_x).to(dtype=torch.float32)\n",
      "/var/folders/sl/wss32g7d5n90dkxvz70f3q940000gn/T/ipykernel_47160/1359735096.py:15: UserWarning: To copy construct from a tensor, it is recommended to use sourceTensor.clone().detach() or sourceTensor.clone().detach().requires_grad_(True), rather than torch.tensor(sourceTensor).\n",
      "  y = torch.tensor(train_y).to(dtype=torch.float32)\n"
     ]
    },
    {
     "name": "stdout",
     "output_type": "stream",
     "text": [
      "Prediction: tensor([0.1808])\n",
      "Expected: 0.20357760787010193\n",
      "Test Loss: 0.7336829304695129\n",
      "Epoch: 0 Loss: 1.256528377532959\n",
      "Epoch: 100 Loss: 0.7031880617141724\n",
      "Epoch: 200 Loss: 0.6702548265457153\n",
      "Epoch: 300 Loss: 0.6694421172142029\n",
      "Epoch: 400 Loss: 0.6691703796386719\n",
      "Epoch: 500 Loss: 0.6690289974212646\n",
      "Epoch: 600 Loss: 0.6689354181289673\n",
      "Epoch: 700 Loss: 0.6688612699508667\n",
      "Epoch: 800 Loss: 0.6687955856323242\n",
      "Epoch: 900 Loss: 0.6687343716621399\n",
      "Epoch: 1000 Loss: 0.668674111366272\n",
      "Epoch: 1100 Loss: 0.6686146259307861\n",
      "Epoch: 1200 Loss: 0.6685563325881958\n",
      "Epoch: 1300 Loss: 0.6685017347335815\n",
      "Epoch: 1400 Loss: 0.6684504151344299\n",
      "Epoch: 1500 Loss: 0.6684002876281738\n",
      "Epoch: 1600 Loss: 0.6683527231216431\n",
      "Epoch: 1700 Loss: 0.6683073043823242\n",
      "Epoch: 1800 Loss: 0.6682643890380859\n",
      "Epoch: 1900 Loss: 0.6682244539260864\n"
     ]
    },
    {
     "data": {
      "image/png": "[encoded data removed]",
      "text/plain": [
       "<Figure size 432x288 with 1 Axes>"
      ]
     },
     "metadata": {
      "needs_background": "light"
     },
     "output_type": "display_data"
    },
    {
     "name": "stderr",
     "output_type": "stream",
     "text": [
      "/var/folders/sl/wss32g7d5n90dkxvz70f3q940000gn/T/ipykernel_47160/1359735096.py:43: UserWarning: To copy construct from a tensor, it is recommended to use sourceTensor.clone().detach() or sourceTensor.clone().detach().requires_grad_(True), rather than torch.tensor(sourceTensor).\n",
      "  t_x = torch.tensor(test_x).to(dtype=torch.float32)\n",
      "/var/folders/sl/wss32g7d5n90dkxvz70f3q940000gn/T/ipykernel_47160/1359735096.py:44: UserWarning: To copy construct from a tensor, it is recommended to use sourceTensor.clone().detach() or sourceTensor.clone().detach().requires_grad_(True), rather than torch.tensor(sourceTensor).\n",
      "  t_y = torch.tensor(test_y).to(dtype=torch.float32)\n",
      "/var/folders/sl/wss32g7d5n90dkxvz70f3q940000gn/T/ipykernel_47160/1359735096.py:14: UserWarning: To copy construct from a tensor, it is recommended to use sourceTensor.clone().detach() or sourceTensor.clone().detach().requires_grad_(True), rather than torch.tensor(sourceTensor).\n",
      "  x = torch.tensor(train_x).to(dtype=torch.float32)\n",
      "/var/folders/sl/wss32g7d5n90dkxvz70f3q940000gn/T/ipykernel_47160/1359735096.py:15: UserWarning: To copy construct from a tensor, it is recommended to use sourceTensor.clone().detach() or sourceTensor.clone().detach().requires_grad_(True), rather than torch.tensor(sourceTensor).\n",
      "  y = torch.tensor(train_y).to(dtype=torch.float32)\n"
     ]
    },
    {
     "name": "stdout",
     "output_type": "stream",
     "text": [
      "Prediction: tensor([0.0193])\n",
      "Expected: -0.11936389654874802\n",
      "Test Loss: 0.6778024435043335\n",
      "Epoch: 0 Loss: 1.2020434141159058\n",
      "Epoch: 100 Loss: 0.642698347568512\n",
      "Epoch: 200 Loss: 0.6176808476448059\n",
      "Epoch: 300 Loss: 0.6169664263725281\n",
      "Epoch: 400 Loss: 0.6167298555374146\n",
      "Epoch: 500 Loss: 0.6166060566902161\n",
      "Epoch: 600 Loss: 0.6165238618850708\n",
      "Epoch: 700 Loss: 0.6164613962173462\n",
      "Epoch: 800 Loss: 0.616408109664917\n",
      "Epoch: 900 Loss: 0.616359531879425\n",
      "Epoch: 1000 Loss: 0.6163142323493958\n",
      "Epoch: 1100 Loss: 0.6162717342376709\n",
      "Epoch: 1200 Loss: 0.6162307858467102\n",
      "Epoch: 1300 Loss: 0.6161919832229614\n",
      "Epoch: 1400 Loss: 0.6161551475524902\n",
      "Epoch: 1500 Loss: 0.6161200404167175\n",
      "Epoch: 1600 Loss: 0.6160855293273926\n",
      "Epoch: 1700 Loss: 0.6160517930984497\n",
      "Epoch: 1800 Loss: 0.6160187721252441\n",
      "Epoch: 1900 Loss: 0.6159850358963013\n"
     ]
    },
    {
     "data": {
      "image/png": "[encoded data removed]",
      "text/plain": [
       "<Figure size 432x288 with 1 Axes>"
      ]
     },
     "metadata": {
      "needs_background": "light"
     },
     "output_type": "display_data"
    },
    {
     "name": "stderr",
     "output_type": "stream",
     "text": [
      "/var/folders/sl/wss32g7d5n90dkxvz70f3q940000gn/T/ipykernel_47160/1359735096.py:43: UserWarning: To copy construct from a tensor, it is recommended to use sourceTensor.clone().detach() or sourceTensor.clone().detach().requires_grad_(True), rather than torch.tensor(sourceTensor).\n",
      "  t_x = torch.tensor(test_x).to(dtype=torch.float32)\n",
      "/var/folders/sl/wss32g7d5n90dkxvz70f3q940000gn/T/ipykernel_47160/1359735096.py:44: UserWarning: To copy construct from a tensor, it is recommended to use sourceTensor.clone().detach() or sourceTensor.clone().detach().requires_grad_(True), rather than torch.tensor(sourceTensor).\n",
      "  t_y = torch.tensor(test_y).to(dtype=torch.float32)\n",
      "/var/folders/sl/wss32g7d5n90dkxvz70f3q940000gn/T/ipykernel_47160/1359735096.py:14: UserWarning: To copy construct from a tensor, it is recommended to use sourceTensor.clone().detach() or sourceTensor.clone().detach().requires_grad_(True), rather than torch.tensor(sourceTensor).\n",
      "  x = torch.tensor(train_x).to(dtype=torch.float32)\n",
      "/var/folders/sl/wss32g7d5n90dkxvz70f3q940000gn/T/ipykernel_47160/1359735096.py:15: UserWarning: To copy construct from a tensor, it is recommended to use sourceTensor.clone().detach() or sourceTensor.clone().detach().requires_grad_(True), rather than torch.tensor(sourceTensor).\n",
      "  y = torch.tensor(train_y).to(dtype=torch.float32)\n"
     ]
    },
    {
     "name": "stdout",
     "output_type": "stream",
     "text": [
      "Prediction: tensor([0.0077])\n",
      "Expected: -0.01700027659535408\n",
      "Test Loss: 0.6079967617988586\n",
      "Epoch: 0 Loss: 1.2429628372192383\n",
      "Epoch: 100 Loss: 0.6855932474136353\n",
      "Epoch: 200 Loss: 0.670116126537323\n",
      "Epoch: 300 Loss: 0.6694228649139404\n",
      "Epoch: 400 Loss: 0.669174313545227\n",
      "Epoch: 500 Loss: 0.6690422892570496\n",
      "Epoch: 600 Loss: 0.6689543724060059\n",
      "Epoch: 700 Loss: 0.6688864827156067\n",
      "Epoch: 800 Loss: 0.6688293218612671\n",
      "Epoch: 900 Loss: 0.6687790155410767\n",
      "Epoch: 1000 Loss: 0.6687320470809937\n",
      "Epoch: 1100 Loss: 0.6686875224113464\n",
      "Epoch: 1200 Loss: 0.6686449646949768\n",
      "Epoch: 1300 Loss: 0.6686050295829773\n",
      "Epoch: 1400 Loss: 0.6685659885406494\n",
      "Epoch: 1500 Loss: 0.6685284376144409\n",
      "Epoch: 1600 Loss: 0.6684920787811279\n",
      "Epoch: 1700 Loss: 0.6684564352035522\n",
      "Epoch: 1800 Loss: 0.6684210896492004\n",
      "Epoch: 1900 Loss: 0.6683861613273621\n"
     ]
    },
    {
     "data": {
      "image/png": "[encoded data removed]",
      "text/plain": [
       "<Figure size 432x288 with 1 Axes>"
      ]
     },
     "metadata": {
      "needs_background": "light"
     },
     "output_type": "display_data"
    },
    {
     "name": "stderr",
     "output_type": "stream",
     "text": [
      "/var/folders/sl/wss32g7d5n90dkxvz70f3q940000gn/T/ipykernel_47160/1359735096.py:43: UserWarning: To copy construct from a tensor, it is recommended to use sourceTensor.clone().detach() or sourceTensor.clone().detach().requires_grad_(True), rather than torch.tensor(sourceTensor).\n",
      "  t_x = torch.tensor(test_x).to(dtype=torch.float32)\n",
      "/var/folders/sl/wss32g7d5n90dkxvz70f3q940000gn/T/ipykernel_47160/1359735096.py:44: UserWarning: To copy construct from a tensor, it is recommended to use sourceTensor.clone().detach() or sourceTensor.clone().detach().requires_grad_(True), rather than torch.tensor(sourceTensor).\n",
      "  t_y = torch.tensor(test_y).to(dtype=torch.float32)\n",
      "/var/folders/sl/wss32g7d5n90dkxvz70f3q940000gn/T/ipykernel_47160/1359735096.py:14: UserWarning: To copy construct from a tensor, it is recommended to use sourceTensor.clone().detach() or sourceTensor.clone().detach().requires_grad_(True), rather than torch.tensor(sourceTensor).\n",
      "  x = torch.tensor(train_x).to(dtype=torch.float32)\n",
      "/var/folders/sl/wss32g7d5n90dkxvz70f3q940000gn/T/ipykernel_47160/1359735096.py:15: UserWarning: To copy construct from a tensor, it is recommended to use sourceTensor.clone().detach() or sourceTensor.clone().detach().requires_grad_(True), rather than torch.tensor(sourceTensor).\n",
      "  y = torch.tensor(train_y).to(dtype=torch.float32)\n"
     ]
    },
    {
     "name": "stdout",
     "output_type": "stream",
     "text": [
      "Prediction: tensor([5.4297e-05])\n",
      "Expected: -0.7601127028465271\n",
      "Test Loss: 0.6196986436843872\n",
      "Epoch: 0 Loss: 1.2982003688812256\n",
      "Epoch: 100 Loss: 0.7957296371459961\n",
      "Epoch: 200 Loss: 0.6323673129081726\n",
      "Epoch: 300 Loss: 0.6290206909179688\n",
      "Epoch: 400 Loss: 0.6284827589988708\n",
      "Epoch: 500 Loss: 0.6282689571380615\n",
      "Epoch: 600 Loss: 0.6281499862670898\n",
      "Epoch: 700 Loss: 0.6280705332756042\n",
      "Epoch: 800 Loss: 0.6280090808868408\n",
      "Epoch: 900 Loss: 0.6279576420783997\n",
      "Epoch: 1000 Loss: 0.6279124617576599\n",
      "Epoch: 1100 Loss: 0.6278717517852783\n",
      "Epoch: 1200 Loss: 0.6278335452079773\n",
      "Epoch: 1300 Loss: 0.6277989745140076\n",
      "Epoch: 1400 Loss: 0.6277662515640259\n",
      "Epoch: 1500 Loss: 0.6277348399162292\n",
      "Epoch: 1600 Loss: 0.6277042627334595\n",
      "Epoch: 1700 Loss: 0.6276741623878479\n",
      "Epoch: 1800 Loss: 0.6276447772979736\n",
      "Epoch: 1900 Loss: 0.627615749835968\n"
     ]
    },
    {
     "data": {
      "image/png": "[encoded data removed]",
      "text/plain": [
       "<Figure size 432x288 with 1 Axes>"
      ]
     },
     "metadata": {
      "needs_background": "light"
     },
     "output_type": "display_data"
    },
    {
     "name": "stderr",
     "output_type": "stream",
     "text": [
      "/var/folders/sl/wss32g7d5n90dkxvz70f3q940000gn/T/ipykernel_47160/1359735096.py:43: UserWarning: To copy construct from a tensor, it is recommended to use sourceTensor.clone().detach() or sourceTensor.clone().detach().requires_grad_(True), rather than torch.tensor(sourceTensor).\n",
      "  t_x = torch.tensor(test_x).to(dtype=torch.float32)\n",
      "/var/folders/sl/wss32g7d5n90dkxvz70f3q940000gn/T/ipykernel_47160/1359735096.py:44: UserWarning: To copy construct from a tensor, it is recommended to use sourceTensor.clone().detach() or sourceTensor.clone().detach().requires_grad_(True), rather than torch.tensor(sourceTensor).\n",
      "  t_y = torch.tensor(test_y).to(dtype=torch.float32)\n",
      "/var/folders/sl/wss32g7d5n90dkxvz70f3q940000gn/T/ipykernel_47160/1359735096.py:14: UserWarning: To copy construct from a tensor, it is recommended to use sourceTensor.clone().detach() or sourceTensor.clone().detach().requires_grad_(True), rather than torch.tensor(sourceTensor).\n",
      "  x = torch.tensor(train_x).to(dtype=torch.float32)\n",
      "/var/folders/sl/wss32g7d5n90dkxvz70f3q940000gn/T/ipykernel_47160/1359735096.py:15: UserWarning: To copy construct from a tensor, it is recommended to use sourceTensor.clone().detach() or sourceTensor.clone().detach().requires_grad_(True), rather than torch.tensor(sourceTensor).\n",
      "  y = torch.tensor(train_y).to(dtype=torch.float32)\n"
     ]
    },
    {
     "name": "stdout",
     "output_type": "stream",
     "text": [
      "Prediction: tensor([0.1918])\n",
      "Expected: 0.26450324058532715\n",
      "Test Loss: 0.6464580297470093\n",
      "Epoch: 0 Loss: 1.2346824407577515\n",
      "Epoch: 100 Loss: 0.6726415157318115\n",
      "Epoch: 200 Loss: 0.662228524684906\n",
      "Epoch: 300 Loss: 0.6616369485855103\n",
      "Epoch: 400 Loss: 0.6614211201667786\n",
      "Epoch: 500 Loss: 0.6613009572029114\n",
      "Epoch: 600 Loss: 0.66121506690979\n",
      "Epoch: 700 Loss: 0.6611425876617432\n",
      "Epoch: 800 Loss: 0.6610761880874634\n",
      "Epoch: 900 Loss: 0.6610121726989746\n",
      "Epoch: 1000 Loss: 0.6609495878219604\n",
      "Epoch: 1100 Loss: 0.6608885526657104\n",
      "Epoch: 1200 Loss: 0.6608300805091858\n",
      "Epoch: 1300 Loss: 0.6607744097709656\n",
      "Epoch: 1400 Loss: 0.6607216596603394\n",
      "Epoch: 1500 Loss: 0.6606723070144653\n",
      "Epoch: 1600 Loss: 0.6606245040893555\n",
      "Epoch: 1700 Loss: 0.6605780124664307\n",
      "Epoch: 1800 Loss: 0.6605333685874939\n",
      "Epoch: 1900 Loss: 0.6604896187782288\n"
     ]
    },
    {
     "data": {
      "image/png": "[encoded data removed]",
      "text/plain": [
       "<Figure size 432x288 with 1 Axes>"
      ]
     },
     "metadata": {
      "needs_background": "light"
     },
     "output_type": "display_data"
    },
    {
     "name": "stdout",
     "output_type": "stream",
     "text": [
      "Prediction: tensor([0.7727])\n",
      "Expected: 0.6838955879211426\n",
      "Test Loss: 0.6692646741867065\n"
     ]
    },
    {
     "name": "stderr",
     "output_type": "stream",
     "text": [
      "/var/folders/sl/wss32g7d5n90dkxvz70f3q940000gn/T/ipykernel_47160/1359735096.py:43: UserWarning: To copy construct from a tensor, it is recommended to use sourceTensor.clone().detach() or sourceTensor.clone().detach().requires_grad_(True), rather than torch.tensor(sourceTensor).\n",
      "  t_x = torch.tensor(test_x).to(dtype=torch.float32)\n",
      "/var/folders/sl/wss32g7d5n90dkxvz70f3q940000gn/T/ipykernel_47160/1359735096.py:44: UserWarning: To copy construct from a tensor, it is recommended to use sourceTensor.clone().detach() or sourceTensor.clone().detach().requires_grad_(True), rather than torch.tensor(sourceTensor).\n",
      "  t_y = torch.tensor(test_y).to(dtype=torch.float32)\n"
     ]
    }
   ],
   "source": [
    "epochs = 2000\n",
    "\n",
    "times = 10\n",
    "\n",
    "for k in range(0, times): \n",
    "    # initialize a model and examine its weights\n",
    "    net = Q2Net()\n",
    "\n",
    "    optimizer = torch.optim.SGD(net.parameters(), lr=0.01, momentum=0.95)\n",
    "    train = MultiplyDataset(5000)\n",
    "    train_x = train[:][0]\n",
    "    train_y = train[:][1]\n",
    "    \n",
    "    x = torch.tensor(train_x).to(dtype=torch.float32)\n",
    "    y = torch.tensor(train_y).to(dtype=torch.float32)\n",
    "    #apply data transformation \n",
    "    x = x / 1000\n",
    "    y = y / 1000000\n",
    "    \n",
    "    #model training \n",
    "    losses = []\n",
    "    for i in range(0,epochs):\n",
    "        net.train()\n",
    "        optimizer.zero_grad()\n",
    "        output = net(x)\n",
    "        loss = F.mse_loss(output.squeeze(), y)\n",
    "        loss.backward()\n",
    "        optimizer.step()\n",
    "        losses.append(loss.item())\n",
    "        if i % 100 == 0: \n",
    "            print(\"Epoch: {} Loss: {}\".format(i, loss.item()))\n",
    "\n",
    "\n",
    "    plt.plot(np.linspace(0, epochs, epochs), losses, 'r')\n",
    "\n",
    "    \n",
    "    plt.show()\n",
    "    \n",
    "    test = MultiplyDataset(1000)\n",
    "    test_x = test[:][0]\n",
    "    test_y = test[:][1]   \n",
    "\n",
    "    t_x = torch.tensor(test_x).to(dtype=torch.float32)\n",
    "    t_y = torch.tensor(test_y).to(dtype=torch.float32)\n",
    "\n",
    "    t_x = t_x / 1000\n",
    "    t_y = t_y / 1000000\n",
    "\n",
    "    # test the model\n",
    "    net.eval()\n",
    "    prediction = net(t_x)\n",
    "    print(\"Prediction: {}\".format(prediction.data[0]))\n",
    "    print(\"Expected: {}\".format(t_y[0]))\n",
    "    print(\"Test Loss: {}\".format(F.mse_loss(prediction.squeeze(), t_y).item()))"
   ]
  },
  {
   "cell_type": "markdown",
   "metadata": {
    "id": "gqXjiABYIvn1"
   },
   "source": [
    "# Question 3 (2 points)"
   ]
  },
  {
   "cell_type": "markdown",
   "metadata": {
    "id": "uQb8RtbC3MgP"
   },
   "source": [
    "We're now going to think about how easy it is to solve the general multiplication problem for real numbers: $y= x_1*x_2$, when $x_1,x_2 \\in {\\Bbb R}$ are not bounded to the limited range (-1000,1000). \n",
    "\n",
    "Define a \"simple\" feed-forward neural network as one where each layer $l$ takes input from only the previous layer $l-1$.\n",
    "Let's assume our simple feed-forward network only uses \"standard\" nodes, which take a weighted sum $z=\\mathbf{w}^T\\mathbf{x}$ of inputs $\\mathbf{x}$, given weights $\\mathbf{w}$, and then apply a differentiable activation function $f()$ to $z$. Example \"standard\" nodes include ReLu, Leaky ReLU, Sigmoid, TanH, and the linear/identity function.\n",
    "\n",
    "Define \"correctly\" performing multiplication as estimating $\\hat{y}= x_1*x_2$  to 2 decimal places of precision (i.e. $ |\\hat{y}-y| < 0.01)$. Here, $\\hat{y}$ is the network's result and $y$ is the true answer.\n",
    "\n",
    "Is it possible to make a \"simple\" neural network that can correctly perform multiplication for any arbitrary pair $x_1,x_2 \\in {\\Bbb R}$? **Support your answer.** \n",
    "\n",
    "*Hint: Think about what a \"standard\" node calculates. Think about how you would implement multiplication using addition.* \n"
   ]
  },
  {
   "cell_type": "markdown",
   "metadata": {
    "id": "zxSKQCae_mw4"
   },
   "source": [
    "***YOUR ANSWER GOES HERE***\n",
    "\n",
    "No, it is not possible for a network to learn multiplication. \n",
    "\n",
    "A standard node calculates a linear combination among the input variables, and we can rewrite multiplication as $log(ab) = log(a) + log(b)$. So essentially, after we apply log transformation on the dataset, we are actually making the algorithm to learn addtion rather than multiplication. A neural network in the form $f(x) = \\sigma(Ax + b)$ without log tranformation on the data and labels would be insufficient because we could not represent multiplication with linear combination among the indenpendent variables. "
   ]
  },
  {
   "cell_type": "markdown",
   "metadata": {
    "id": "pvg9Q_w_F_Ba"
   },
   "source": [
    "# Question 4 (2 points)"
   ]
  },
  {
   "cell_type": "markdown",
   "metadata": {
    "id": "05v2tqqOGHcN"
   },
   "source": [
    "Suppose you want to build a fully convolutional network, YouNet, which converts an image with cropped ImageNet dimensions (256, 256), to MNIST dimensions (28, 28), and back to (256, 256). This network contains a convolutional layer that maps an image from (256, 256) -> (28, 28), and a transposed convolutional layer that maps an image from (28, 28) -> (256, 256). "
   ]
  },
  {
   "cell_type": "code",
   "execution_count": 121,
   "metadata": {
    "id": "hkbUzmTJGqLW"
   },
   "outputs": [],
   "source": [
    "import torch\n",
    "import torch.nn as nn\n",
    "\n",
    "class YouNet(nn.Module):\n",
    "    def __init__(self,\n",
    "                 kernel_1: tuple[int, int],\n",
    "                 kernel_2: tuple[int, int],\n",
    "                 stride_1: tuple[int, int] = (1, 1),\n",
    "                 stride_2: tuple[int, int] = (1, 1)):\n",
    "        super().__init__()\n",
    "        self.conv1 = nn.Conv2d(1, 1, kernel_1, stride=stride_1)\n",
    "        self.conv2 = nn.ConvTranspose2d(1, 1, kernel_2, stride=stride_2)\n",
    "        \n",
    "    def forward(self, x: torch.Tensor) -> tuple[torch.Tensor, torch.Tensor]:\n",
    "        mnist = self.conv1(x)\n",
    "        imagenet = self.conv2(mnist)\n",
    "        return mnist, imagenet"
   ]
  },
  {
   "cell_type": "markdown",
   "metadata": {
    "id": "K_mbrs7pG6cj"
   },
   "source": [
    "1. Find valid kernel sizes for the convolutional layers when `stride=(1, 1)`.  By 'valid', we mean that using the kernel results in a `mnist.shape` and an `imagenet.shape` that pass the assert statement below."
   ]
  },
  {
   "cell_type": "code",
   "execution_count": 133,
   "metadata": {
    "id": "6ptmQ1cuHAP4"
   },
   "outputs": [],
   "source": [
    "kernel_1 = 229\n",
    "kernel_2 = 229\n",
    "\n",
    "network = YouNet(kernel_1, kernel_2)\n",
    "mnist, imagenet = network(torch.zeros(1, 1, 256, 256))\n",
    "assert mnist.shape == (1, 1, 28, 28)\n",
    "assert imagenet.shape == (1, 1, 256, 256)"
   ]
  },
  {
   "cell_type": "markdown",
   "metadata": {
    "id": "5_is76dxHNef"
   },
   "source": [
    "2. Find valid kernel sizes for when `stride=(8, 8)`"
   ]
  },
  {
   "cell_type": "code",
   "execution_count": 141,
   "metadata": {
    "id": "KrkmklFeHWqx"
   },
   "outputs": [],
   "source": [
    "kernel_1 = 40\n",
    "kernel_2 = 40\n",
    "\n",
    "network = YouNet(kernel_1, kernel_2, stride_1=(8, 8), stride_2=(8, 8))\n",
    "mnist, imagenet = network(torch.zeros(1, 1, 256, 256))\n",
    "\n",
    "assert mnist.shape == (1, 1, 28, 28)\n",
    "assert imagenet.shape == (1, 1, 256, 256)"
   ]
  },
  {
   "cell_type": "markdown",
   "metadata": {
    "id": "P1WyaflBHlfe"
   },
   "source": [
    "3. Suppose instead of processing an image of size (256, 256) with the YouNet you implemented in part 2, you want to process an input image of size (257, 257). What would the sizes of the two processed output images be? Why doesn't the imagenet output have dimensionality (257, 257)? (Hint: Does the strided convolution process all the rows and columns of the original image?)"
   ]
  },
  {
   "cell_type": "markdown",
   "metadata": {
    "id": "YfeM6zNZHqQK"
   },
   "source": [
    "***YOUR ANSWER GOES HERE***\n",
    "\n",
    "The size of mnist would be (28, 28) and the imagenet output would be (256, 256). This is because the strided convolution does not process all the rows and columns of the original image, and therefore the last row and column would be strided. "
   ]
  },
  {
   "cell_type": "markdown",
   "metadata": {
    "id": "SempAAz_HxUi"
   },
   "source": [
    "4. Suppose you are processing an image of size (264, 264) with the YouNet implemented in part 2. What would be the sizes of the two processed images output by the network? For an image of this size, does the imagenet output have the same size as the input?\n",
    "\n",
    "The mnist output has dimension (29, 29) and the imagenet out has dimension (264, 264). Therefore, the imagenet output does have the same size as the input."
   ]
  },
  {
   "cell_type": "markdown",
   "metadata": {
    "id": "nSQB-QDoH1i1"
   },
   "source": [
    "***YOUR ANSWER GOES HERE***"
   ]
  },
  {
   "cell_type": "code",
   "execution_count": 143,
   "metadata": {},
   "outputs": [
    {
     "name": "stdout",
     "output_type": "stream",
     "text": [
      "torch.Size([1, 1, 29, 29]) torch.Size([1, 1, 264, 264])\n"
     ]
    }
   ],
   "source": [
    "kernel_1 = 40\n",
    "kernel_2 = 40\n",
    "\n",
    "network = YouNet(kernel_1, kernel_2, stride_1=(8, 8), stride_2=(8, 8))\n",
    "mnist, imagenet = network(torch.zeros(1, 1, 264, 264))\n",
    "\n",
    "print(mnist.shape, imagenet.shape)"
   ]
  },
  {
   "cell_type": "markdown",
   "metadata": {
    "id": "AO9M41Po_UqK"
   },
   "source": [
    "# Question 5 (3 points)"
   ]
  },
  {
   "cell_type": "markdown",
   "metadata": {
    "id": "Pafg-4U8_Ue1"
   },
   "source": [
    "The paper [Batch Normalization: Accelerating Deep Network Training by Reducing Internal Covariate Shift](https://arxiv.org/pdf/1502.03167v3.pdf) is in our class readings list and describes one of the most popular normalization approaches.  \n",
    "\n",
    "Specifically, you are to reproduce the experiment in **section 4.1** of the paper, providing an output figure like **figure 1(a)**.\n",
    "\n",
    "This means making a network module that has **the architecture described in section 4.1** of the paper. You will need to create two alternative versions of your network module: one model that has at least one batch normalization layer, another module that has no batch normalization layer. Pytorch provides a handy \n",
    "[function](https://pytorch.org/docs/stable/generated/torch.nn.BatchNorm1d.html) or [two](https://pytorch.org/docs/stable/generated/torch.nn.BatchNorm2d.html) to help with this. \n",
    "\n",
    "* Note, you don't have to duplicate their weight initializations. Using the default weight initializations is fine.\n",
    "\n",
    "The famous [MNIST](http://yann.lecun.com/exdb/mnist/) dataset is available in [torchvision.datasets](https://pytorch.org/vision/stable/datasets.html). You can download it just by declarng the dataset and specifying download=true. See the torchvision.dataset docs for more on that.\n",
    "\n",
    "* Note, torchvision.datasets has both test and train datasets available for MNIST. \n",
    "\n",
    "* Note, they never specify in the paper HOW BIG the testing (I think they mean VALIDATION, actually) set they use is. Yours could be just a couple of hundred examples.\n",
    "\n",
    "* Note that you don't have to run the test after every training step. Every 20 training steps would be fine."
   ]
  },
  {
   "cell_type": "markdown",
   "metadata": {
    "id": "OYmghE5YE7Gt"
   },
   "source": [
    "1. Put your graph similar to **figure 1(a)** from the paper below."
   ]
  },
  {
   "attachments": {
    "image-4.png": {
     "image/png": "[encoded data removed]"
    }
   },
   "cell_type": "markdown",
   "metadata": {
    "id": "vqUrgAB0DocM"
   },
   "source": [
    "***YOUR ANSWER GOES HERE***\n",
    "![image-4.png](attachment:image-4.png)"
   ]
  },
  {
   "cell_type": "markdown",
   "metadata": {
    "id": "y8k6WzK3FQA8"
   },
   "source": [
    "2. Put your analysis of the effectiveness of batch normalization for your network and dataset below. Did you duplicate their results?"
   ]
  },
  {
   "cell_type": "markdown",
   "metadata": {
    "id": "0EDqq2kwFXDB"
   },
   "source": [
    "***YOUR ANSWER GOES HERE***\n",
    "\n",
    "Based on the graphs that I generated, it seems like Batch normalization does help making the distributions more stable and reducing the internal covariate shift. But in my case, it achieves a slightly higher test accuracy (96.94%) compared with the baseline model (96.06%) after 50 epochs. "
   ]
  },
  {
   "cell_type": "markdown",
   "metadata": {
    "id": "tUx4Dv-zEYov"
   },
   "source": [
    "3. Put all your code (including network modules, data loaders, testing and training code) below. "
   ]
  },
  {
   "cell_type": "code",
   "execution_count": 282,
   "metadata": {},
   "outputs": [],
   "source": [
    "import time"
   ]
  },
  {
   "cell_type": "code",
   "execution_count": 299,
   "metadata": {},
   "outputs": [
    {
     "data": {
      "text/plain": [
       "Net(\n",
       "  (fc1): Linear(in_features=784, out_features=100, bias=True)\n",
       "  (fc2): Linear(in_features=100, out_features=100, bias=True)\n",
       "  (fc3): Linear(in_features=100, out_features=100, bias=True)\n",
       "  (fc4): Linear(in_features=100, out_features=10, bias=True)\n",
       "  (sigmoid): Sigmoid()\n",
       ")"
      ]
     },
     "execution_count": 299,
     "metadata": {},
     "output_type": "execute_result"
    }
   ],
   "source": [
    "class Net(nn.Module):\n",
    "    def __init__(self):\n",
    "        super().__init__()\n",
    "        self.fc1 = nn.Linear(28*28,100)\n",
    "        self.fc2 = nn.Linear(100, 100)\n",
    "        self.fc3 = nn.Linear(100, 100)\n",
    "        self.fc4 = nn.Linear(100, 10)\n",
    "        self.sigmoid = torch.nn.Sigmoid()\n",
    "        \n",
    "    def forward(self, x):\n",
    "        batch_size, channels, width, height = x.size()\n",
    "        x = x.view(batch_size, -1)\n",
    "        x = self.sigmoid(self.fc1(x))\n",
    "        x = self.sigmoid(self.fc2(x))\n",
    "        x = self.sigmoid(self.fc3(x))\n",
    "        x = self.fc4(x)\n",
    "        \n",
    "        return x\n",
    "    \n",
    "net = Net()\n",
    "net"
   ]
  },
  {
   "cell_type": "code",
   "execution_count": 295,
   "metadata": {},
   "outputs": [
    {
     "data": {
      "text/plain": [
       "BNnet(\n",
       "  (fc1): Linear(in_features=784, out_features=100, bias=True)\n",
       "  (fc2): Linear(in_features=100, out_features=100, bias=True)\n",
       "  (fc3): Linear(in_features=100, out_features=100, bias=True)\n",
       "  (fc4): Linear(in_features=100, out_features=10, bias=True)\n",
       "  (sigmoid): Sigmoid()\n",
       "  (bn1): BatchNorm1d(784, eps=1e-05, momentum=0.1, affine=True, track_running_stats=True)\n",
       "  (bn2): BatchNorm1d(100, eps=1e-05, momentum=0.1, affine=True, track_running_stats=True)\n",
       ")"
      ]
     },
     "execution_count": 295,
     "metadata": {},
     "output_type": "execute_result"
    }
   ],
   "source": [
    "class BNnet(nn.Module):\n",
    "    def __init__(self):\n",
    "        super().__init__()\n",
    "        self.fc1 = nn.Linear(28*28,100)\n",
    "        self.fc2 = nn.Linear(100, 100)\n",
    "        self.fc3 = nn.Linear(100, 100)\n",
    "        self.fc4 = nn.Linear(100, 10)\n",
    "        self.sigmoid = torch.nn.Sigmoid()\n",
    "        self.bn1 = torch.nn.BatchNorm1d(784)\n",
    "        self.bn2 = torch.nn.BatchNorm1d(100)\n",
    "        \n",
    "    def forward(self, x):\n",
    "        batch_size, channels, width, height = x.size()\n",
    "        x = x.view(batch_size, -1)\n",
    "        x = self.sigmoid(self.fc1(self.bn1(x)))\n",
    "        x = self.sigmoid(self.fc2(self.bn2(x)))\n",
    "        x = self.sigmoid(self.fc3(self.bn2(x)))\n",
    "        x = self.fc4(x)\n",
    "        \n",
    "        return x\n",
    "    \n",
    "bn = BNnet()\n",
    "bn"
   ]
  },
  {
   "cell_type": "code",
   "execution_count": 290,
   "metadata": {},
   "outputs": [],
   "source": [
    "def training_loop(input_model, save_path, epochs, batch_size, device=\"cpu\"):\n",
    "    # initialize model\n",
    "    model = input_model\n",
    "    model.to(device)  # we'll cover this in the next section!\n",
    "\n",
    "    # initialize an optimizer to update our model's parameters during training\n",
    "    optimizer = torch.optim.Adagrad(model.parameters(), lr=0.01)\n",
    "    \n",
    "\n",
    "    # make a new directory in which to download the MNIST dataset\n",
    "    data_dir = \"./data/\"\n",
    "    \n",
    "    # initialize a Transform object to prepare our data\n",
    "    transform = torchvision.transforms.Compose([\n",
    "        torchvision.transforms.ToTensor(),\n",
    "        lambda x: x>0,\n",
    "        lambda x: x.float(),\n",
    "    ])\n",
    "\n",
    "    # load MNIST \"test\" dataset from disk\n",
    "    mnist_test = torchvision.datasets.MNIST(data_dir, train=False, download=False, transform=transform)\n",
    "\n",
    "    # load MNIST \"train\" dataset from disk and set aside a portion for validation\n",
    "    mnist_train_full = datasets.MNIST(data_dir, train=True, download=False, transform=transform)\n",
    "\n",
    "    mnist_train, mnist_val = torch.utils.data.random_split(mnist_train_full, [55000, 000])\n",
    "\n",
    "    # initialize a DataLoader object for each dataset\n",
    "    train_dataloader = torch.utils.data.DataLoader(mnist_train, batch_size=batch_size, shuffle=True)\n",
    "    val_dataloader = torch.utils.data.DataLoader(mnist_val, batch_size=batch_size, shuffle=False)\n",
    "    test_dataloader = torch.utils.data.DataLoader(mnist_test, batch_size=1, shuffle=False)\n",
    "\n",
    "    # a PyTorch categorical cross-entropy loss object\n",
    "    loss_fn = torch.nn.CrossEntropyLoss()\n",
    "\n",
    "    # time training process\n",
    "    st = time.time()\n",
    "    \n",
    "    val_stat = [] \n",
    "    epoch_stat = []\n",
    "\n",
    "    # time to start training!\n",
    "    for epoch_idx, epoch in enumerate(range(epochs)):\n",
    "\n",
    "        best_acc = 0.0\n",
    "\n",
    "        train_loss = 0.0\n",
    "        train_acc = 0.0\n",
    "        train_total = 0\n",
    "        model.train()\n",
    "        for batch_idx, batch in enumerate(train_dataloader):\n",
    "\n",
    "            optimizer.zero_grad()\n",
    "\n",
    "            x, y = batch\n",
    "            x = x.to(device) \n",
    "            y = y.to(device) \n",
    "\n",
    "            # generate predictions and compute loss\n",
    "            output = model(x) \n",
    "            loss = loss_fn(output, y)\n",
    "\n",
    "            # compute accuracy\n",
    "            preds = output.argmax(dim=1)\n",
    "            acc = preds.eq(y).sum().item()/len(y)\n",
    "\n",
    "            # compute gradients and update model parameters\n",
    "            loss.backward()\n",
    "            optimizer.step()\n",
    "\n",
    "            # update statistics\n",
    "            train_loss += (loss * len(x))\n",
    "            train_acc += (acc * len(x))\n",
    "            train_total += len(x)\n",
    "            \n",
    "            #print every 20 steps\n",
    "            if batch_idx > 0 and (batch_idx + 1) % 20 == 0: \n",
    "                \n",
    "                train_loss /= train_total\n",
    "                train_acc /= train_total\n",
    "\n",
    "                # perform validation once per 20 steps \n",
    "                val_loss = 0.0\n",
    "                val_acc = 0.0\n",
    "                val_total = 0\n",
    "                model.eval()\n",
    "                for vbatch_idx, vbatch in enumerate(val_dataloader):\n",
    "\n",
    "                    # don't compute gradients during validation\n",
    "                    with torch.no_grad():\n",
    "\n",
    "                        # unpack data and labels\n",
    "                        vx, vy = vbatch\n",
    "                        vx = vx.to(device)  # we'll cover this in the next section!\n",
    "                        vy = vy.to(device)  # we'll cover this in the next section!\n",
    "\n",
    "                        # generate predictions and compute loss\n",
    "                        output = model(vx)\n",
    "                        loss = loss_fn(output, vy)\n",
    "\n",
    "                        # compute accuracy\n",
    "                        preds = output.argmax(dim=1)\n",
    "                        acc = preds.eq(vy).sum().item()/len(vy)\n",
    "\n",
    "                        # update statistics\n",
    "                        val_loss += (loss * len(vx))\n",
    "                        val_acc += (acc * len(vx))\n",
    "                        val_total += len(vx)\n",
    "\n",
    "                val_loss /= val_total\n",
    "                val_acc /= val_total\n",
    "\n",
    "                val_stat.append(val_acc)\n",
    "                epoch_stat.append(batch_idx + 1 + (epoch_idx) * len(train_dataloader))\n",
    "                \n",
    "        if val_acc > best_acc:\n",
    "\n",
    "            best_acc = val_acc\n",
    "            torch.save(model.state_dict(), save_path)\n",
    "\n",
    "    \n",
    "    return model, save_path, val_stat, epoch_stat\n"
   ]
  },
  {
   "cell_type": "code",
   "execution_count": 300,
   "metadata": {},
   "outputs": [],
   "source": [
    "# run our training loop\n",
    "batch_size = 60\n",
    "epochs = 50\n",
    "model, save_path, val_stat, epoch_stat = training_loop(Net(), \"hw2_baseline.pt\", epochs, batch_size, \"cpu\")"
   ]
  },
  {
   "cell_type": "code",
   "execution_count": 296,
   "metadata": {},
   "outputs": [],
   "source": [
    "bn_model, bn_save_path, bn_val_stat, bn_epoch_stat = training_loop(BNnet(), \"hw2_bn.pt\", epochs, batch_size, \"cpu\")"
   ]
  },
  {
   "cell_type": "code",
   "execution_count": 302,
   "metadata": {},
   "outputs": [
    {
     "data": {
      "image/png": "[encoded data removed]",
      "text/plain": [
       "<Figure size 432x288 with 1 Axes>"
      ]
     },
     "metadata": {
      "needs_background": "light"
     },
     "output_type": "display_data"
    }
   ],
   "source": [
    "# Display activations\n",
    "\n",
    "plt.plot(epoch_stat, val_stat, 'k--' ,label = f\"Train (baseline) score {val_stat[-1]:.4f}\")\n",
    "plt.plot(bn_epoch_stat, bn_val_stat, 'b-' ,label = f\"Train (BatchNorm) score {bn_val_stat[-1]:.4f}\")\n",
    "\n",
    "plt.legend()\n",
    "plt.show()"
   ]
  },
  {
   "cell_type": "code",
   "execution_count": null,
   "metadata": {},
   "outputs": [],
   "source": []
  },
  {
   "cell_type": "code",
   "execution_count": null,
   "metadata": {},
   "outputs": [],
   "source": []
  }
 ],
 "metadata": {
  "colab": {
   "collapsed_sections": [],
   "name": "DL_Homework_2.ipynb",
   "provenance": [],
   "toc_visible": true
  },
  "kernelspec": {
   "display_name": "Python 3 (ipykernel)",
   "language": "python",
   "name": "python3"
  },
  "language_info": {
   "codemirror_mode": {
    "name": "ipython",
    "version": 3
   },
   "file_extension": ".py",
   "mimetype": "text/x-python",
   "name": "python",
   "nbconvert_exporter": "python",
   "pygments_lexer": "ipython3",
   "version": "3.9.7"
  }
 },
 "nbformat": 4,
 "nbformat_minor": 1
}
